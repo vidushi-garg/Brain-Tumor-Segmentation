{
 "cells": [
  {
   "cell_type": "code",
   "execution_count": 1,
   "id": "helpful-brake",
   "metadata": {},
   "outputs": [],
   "source": [
    "from nipype.interfaces.ants import N4BiasFieldCorrection\n",
    "import os\n",
    "# import shutil\n",
    "import SimpleITK as sitk"
   ]
  },
  {
   "cell_type": "code",
   "execution_count": 2,
   "id": "intense-tower",
   "metadata": {},
   "outputs": [],
   "source": [
    "dataset_path = \"../MICCAI_BraTS_2019_Data_Training/HGG/\"\n",
    "output_path = \"../preprocessed_dataset/\"      "
   ]
  },
  {
   "cell_type": "code",
   "execution_count": 3,
   "id": "valid-antibody",
   "metadata": {},
   "outputs": [
    {
     "name": "stdout",
     "output_type": "stream",
     "text": [
      "BraTS19_2013_10_1_flair.nii.gz\n"
     ]
    },
    {
     "ename": "KeyboardInterrupt",
     "evalue": "",
     "output_type": "error",
     "traceback": [
      "\u001b[1;31m---------------------------------------------------------------------------\u001b[0m",
      "\u001b[1;31mKeyboardInterrupt\u001b[0m                         Traceback (most recent call last)",
      "\u001b[1;32m<ipython-input-3-fd5dc1743217>\u001b[0m in \u001b[0;36m<module>\u001b[1;34m\u001b[0m\n\u001b[0;32m     25\u001b[0m \u001b[1;31m#                                              \" to your PATH system variable. (example: EXPORT PATH=${PATH}:/path/to/ants/bin)\"))\u001b[0m\u001b[1;33m\u001b[0m\u001b[1;33m\u001b[0m\u001b[1;33m\u001b[0m\u001b[0m\n\u001b[0;32m     26\u001b[0m             \u001b[0minput_image\u001b[0m \u001b[1;33m=\u001b[0m \u001b[0msitk\u001b[0m\u001b[1;33m.\u001b[0m\u001b[0mReadImage\u001b[0m\u001b[1;33m(\u001b[0m\u001b[0min_path\u001b[0m\u001b[1;33m,\u001b[0m \u001b[0mimage_type\u001b[0m\u001b[1;33m)\u001b[0m\u001b[1;33m\u001b[0m\u001b[1;33m\u001b[0m\u001b[0m\n\u001b[1;32m---> 27\u001b[1;33m             \u001b[0moutput_image\u001b[0m \u001b[1;33m=\u001b[0m \u001b[0msitk\u001b[0m\u001b[1;33m.\u001b[0m\u001b[0mN4BiasFieldCorrection\u001b[0m\u001b[1;33m(\u001b[0m\u001b[0minput_image\u001b[0m\u001b[1;33m,\u001b[0m \u001b[0minput_image\u001b[0m \u001b[1;33m>\u001b[0m \u001b[1;36m0\u001b[0m\u001b[1;33m)\u001b[0m\u001b[1;33m\u001b[0m\u001b[1;33m\u001b[0m\u001b[0m\n\u001b[0m\u001b[0;32m     28\u001b[0m             \u001b[0msitk\u001b[0m\u001b[1;33m.\u001b[0m\u001b[0mWriteImage\u001b[0m\u001b[1;33m(\u001b[0m\u001b[0moutput_image\u001b[0m\u001b[1;33m,\u001b[0m \u001b[0mflair_output_path\u001b[0m\u001b[1;33m)\u001b[0m\u001b[1;33m\u001b[0m\u001b[1;33m\u001b[0m\u001b[0m\n\u001b[0;32m     29\u001b[0m             \u001b[0msitk\u001b[0m\u001b[1;33m.\u001b[0m\u001b[0mWriteImage\u001b[0m\u001b[1;33m(\u001b[0m\u001b[0minput_image\u001b[0m\u001b[1;33m,\u001b[0m \u001b[0mout_path\u001b[0m\u001b[1;33m)\u001b[0m\u001b[1;33m\u001b[0m\u001b[1;33m\u001b[0m\u001b[0m\n",
      "\u001b[1;32mF:\\Softwares\\Anaconda\\envs\\deeplearning\\lib\\site-packages\\SimpleITK\\SimpleITK.py\u001b[0m in \u001b[0;36mN4BiasFieldCorrection\u001b[1;34m(*args)\u001b[0m\n\u001b[0;32m  18307\u001b[0m     \u001b[0mN4BiasFieldCorrection\u001b[0m\u001b[1;33m(\u001b[0m\u001b[0mImage\u001b[0m \u001b[0mimage\u001b[0m\u001b[1;33m,\u001b[0m \u001b[0mdouble\u001b[0m \u001b[0mconvergenceThreshold\u001b[0m\u001b[1;33m=\u001b[0m\u001b[1;36m0.001\u001b[0m\u001b[1;33m,\u001b[0m \u001b[0mVectorUInt32\u001b[0m \u001b[0mmaximumNumberOfIterations\u001b[0m\u001b[1;33m=\u001b[0m\u001b[0mstd\u001b[0m\u001b[1;33m:\u001b[0m\u001b[1;33m:\u001b[0m\u001b[0mvector\u001b[0m\u001b[1;33m<\u001b[0m \u001b[0muint32_t\u001b[0m \u001b[1;33m>\u001b[0m\u001b[1;33m(\u001b[0m\u001b[1;36m4\u001b[0m\u001b[1;33m,\u001b[0m\u001b[1;36m50\u001b[0m\u001b[1;33m)\u001b[0m\u001b[1;33m,\u001b[0m \u001b[0mdouble\u001b[0m \u001b[0mbiasFieldFullWidthAtHalfMaximum\u001b[0m\u001b[1;33m=\u001b[0m\u001b[1;36m0.15\u001b[0m\u001b[1;33m,\u001b[0m \u001b[0mdouble\u001b[0m \u001b[0mwienerFilterNoise\u001b[0m\u001b[1;33m=\u001b[0m\u001b[1;36m0.01\u001b[0m\u001b[1;33m,\u001b[0m \u001b[0muint32_t\u001b[0m \u001b[0mnumberOfHistogramBins\u001b[0m\u001b[1;33m=\u001b[0m\u001b[1;36m200\u001b[0m\u001b[1;33m,\u001b[0m \u001b[0mVectorUInt32\u001b[0m \u001b[0mnumberOfControlPoints\u001b[0m\u001b[1;33m=\u001b[0m\u001b[0mstd\u001b[0m\u001b[1;33m:\u001b[0m\u001b[1;33m:\u001b[0m\u001b[0mvector\u001b[0m\u001b[1;33m<\u001b[0m \u001b[0muint32_t\u001b[0m \u001b[1;33m>\u001b[0m\u001b[1;33m(\u001b[0m\u001b[1;36m3\u001b[0m\u001b[1;33m,\u001b[0m \u001b[1;36m4\u001b[0m\u001b[1;33m)\u001b[0m\u001b[1;33m,\u001b[0m \u001b[0muint32_t\u001b[0m \u001b[0msplineOrder\u001b[0m\u001b[1;33m=\u001b[0m\u001b[1;36m3\u001b[0m\u001b[1;33m,\u001b[0m \u001b[0mbool\u001b[0m \u001b[0museMaskLabel\u001b[0m\u001b[1;33m=\u001b[0m\u001b[1;32mTrue\u001b[0m\u001b[1;33m,\u001b[0m \u001b[0muint8_t\u001b[0m \u001b[0mmaskLabel\u001b[0m\u001b[1;33m=\u001b[0m\u001b[1;36m1\u001b[0m\u001b[1;33m)\u001b[0m \u001b[1;33m->\u001b[0m \u001b[0mImage\u001b[0m\u001b[1;33m\u001b[0m\u001b[1;33m\u001b[0m\u001b[0m\n\u001b[0;32m  18308\u001b[0m     \"\"\"\n\u001b[1;32m> 18309\u001b[1;33m     \u001b[1;32mreturn\u001b[0m \u001b[0m_SimpleITK\u001b[0m\u001b[1;33m.\u001b[0m\u001b[0mN4BiasFieldCorrection\u001b[0m\u001b[1;33m(\u001b[0m\u001b[1;33m*\u001b[0m\u001b[0margs\u001b[0m\u001b[1;33m)\u001b[0m\u001b[1;33m\u001b[0m\u001b[1;33m\u001b[0m\u001b[0m\n\u001b[0m\u001b[0;32m  18310\u001b[0m \u001b[1;32mclass\u001b[0m \u001b[0mNaryAddImageFilter\u001b[0m\u001b[1;33m(\u001b[0m\u001b[0mImageFilter\u001b[0m\u001b[1;33m)\u001b[0m\u001b[1;33m:\u001b[0m\u001b[1;33m\u001b[0m\u001b[1;33m\u001b[0m\u001b[0m\n\u001b[0;32m  18311\u001b[0m     \u001b[1;34mr\"\"\"Proxy of C++ itk::simple::NaryAddImageFilter class.\"\"\"\u001b[0m\u001b[1;33m\u001b[0m\u001b[1;33m\u001b[0m\u001b[0m\n",
      "\u001b[1;31mKeyboardInterrupt\u001b[0m: "
     ]
    }
   ],
   "source": [
    "image_type=sitk.sitkFloat64\n",
    "for folder in os.listdir(dataset_path):\n",
    "    path = str(dataset_path)+ str(folder)+\"/\"\n",
    "    for file in os.listdir(path):\n",
    "        print(file)\n",
    "        last = file.split(\"_\")[-1]\n",
    "        in_path = str(path)+str(file)\n",
    "        if last == 'seg.nii.gz':  \n",
    "            out_path = str(output_path)+\"ground_truth/\"+str(file)\n",
    "            input_image = sitk.ReadImage(in_path, image_type)\n",
    "            sitk.WriteImage(input_image, out_path)\n",
    "        elif last == 'flair.nii.gz':\n",
    "            out_path = str(output_path)+\"images/\"+str(file)\n",
    "            flair_output_path = str(output_path)+\"flair_preprocessed/\"+str(file)\n",
    "#             correct = N4BiasFieldCorrection()\n",
    "#             correct.inputs.input_image = in_path\n",
    "#             correct.inputs.output_image = out_path\n",
    "#             try:\n",
    "#                 done = correct.run()\n",
    "#                 return done.outputs.output_image\n",
    "#             except IOError:\n",
    "#                 warnings.warn(RuntimeWarning(\"ANTs N4BIasFieldCorrection could not be found.\"\n",
    "#                                              \"Will try using SimpleITK for bias field correction\"\n",
    "#                                              \" which will take much longer. To fix this problem, add N4BiasFieldCorrection\"\n",
    "#                                              \" to your PATH system variable. (example: EXPORT PATH=${PATH}:/path/to/ants/bin)\"))\n",
    "            input_image = sitk.ReadImage(in_path, image_type)\n",
    "            output_image = sitk.N4BiasFieldCorrection(input_image, input_image > 0)\n",
    "            sitk.WriteImage(output_image, flair_output_path)\n",
    "            sitk.WriteImage(input_image, out_path)\n",
    "        else:\n",
    "            out_path = str(output_path)+\"images/\"+str(file)\n",
    "            flair_output_path = str(output_path)+\"flair_preprocessed/\"+str(file)\n",
    "#             correct = N4BiasFieldCorrection()\n",
    "#             correct.inputs.input_image = in_path\n",
    "#             correct.inputs.output_image = out_path\n",
    "#             try:\n",
    "#                 done = correct.run()\n",
    "# #                 return done.outputs.output_image\n",
    "#             except IOError:\n",
    "#                 warnings.warn(RuntimeWarning(\"ANTs N4BIasFieldCorrection could not be found.\"\n",
    "#                                              \"Will try using SimpleITK for bias field correction\"\n",
    "#                                              \" which will take much longer. To fix this problem, add N4BiasFieldCorrection\"\n",
    "#                                              \" to your PATH system variable. (example: EXPORT PATH=${PATH}:/path/to/ants/bin)\"))\n",
    "            input_image = sitk.ReadImage(in_path, image_type)\n",
    "            output_image = sitk.N4BiasFieldCorrection(input_image, input_image > 0)\n",
    "            sitk.WriteImage(output_image, out_path)\n",
    "            sitk.WriteImage(output_image, flair_output_path)\n",
    "     "
   ]
  },
  {
   "cell_type": "code",
   "execution_count": null,
   "id": "collectible-michael",
   "metadata": {},
   "outputs": [],
   "source": []
  }
 ],
 "metadata": {
  "kernelspec": {
   "display_name": "Python 3",
   "language": "python",
   "name": "python3"
  },
  "language_info": {
   "codemirror_mode": {
    "name": "ipython",
    "version": 3
   },
   "file_extension": ".py",
   "mimetype": "text/x-python",
   "name": "python",
   "nbconvert_exporter": "python",
   "pygments_lexer": "ipython3",
   "version": "3.8.5"
  }
 },
 "nbformat": 4,
 "nbformat_minor": 5
}
